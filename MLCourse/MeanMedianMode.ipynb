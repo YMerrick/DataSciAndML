{
 "cells": [
  {
   "cell_type": "markdown",
   "metadata": {},
   "source": [
    "# Mean, Median, Mode, and introducing NumPy"
   ]
  },
  {
   "cell_type": "markdown",
   "metadata": {},
   "source": [
    "## Mean vs. Median"
   ]
  },
  {
   "cell_type": "markdown",
   "metadata": {},
   "source": [
    "Let's create some fake income data, centered around 27,000 with a normal distribution and standard deviation of 15,000, with 10,000 data points. (We'll discuss those terms more later, if you're not familiar with them.)\n",
    "\n",
    "Then, compute the mean (average) - it should be close to 27,000:"
   ]
  },
  {
   "cell_type": "code",
   "execution_count": 1,
   "metadata": {},
   "outputs": [
    {
     "data": {
      "text/plain": [
       "26909.952390742266"
      ]
     },
     "execution_count": 1,
     "metadata": {},
     "output_type": "execute_result"
    }
   ],
   "source": [
    "import numpy as np\n",
    "\n",
    "incomes = np.random.normal(27000, 15000, 10000)\n",
    "np.mean(incomes)"
   ]
  },
  {
   "cell_type": "markdown",
   "metadata": {},
   "source": [
    "We can segment the income data into 50 buckets, and plot it as a histogram:"
   ]
  },
  {
   "cell_type": "code",
   "execution_count": 6,
   "metadata": {},
   "outputs": [
    {
     "data": {
      "image/png": "[encoded data removed]",
      "text/plain": [
       "<Figure size 432x288 with 1 Axes>"
      ]
     },
     "metadata": {
      "needs_background": "light"
     },
     "output_type": "display_data"
    }
   ],
   "source": [
    "%matplotlib inline\n",
    "import matplotlib.pyplot as plt\n",
    "plt.hist(incomes, 100)\n",
    "plt.show()"
   ]
  },
  {
   "cell_type": "markdown",
   "metadata": {},
   "source": [
    "Now compute the median - since we have a nice, even distribution it too should be close to 27,000:"
   ]
  },
  {
   "cell_type": "code",
   "execution_count": 9,
   "metadata": {},
   "outputs": [
    {
     "data": {
      "text/plain": [
       "26766.650416181597"
      ]
     },
     "execution_count": 9,
     "metadata": {},
     "output_type": "execute_result"
    }
   ],
   "source": [
    "np.median(incomes)"
   ]
  },
  {
   "cell_type": "markdown",
   "metadata": {},
   "source": [
    "Now we'll add Jeff Bezos into the mix. Darn income inequality!"
   ]
  },
  {
   "cell_type": "code",
   "execution_count": 10,
   "metadata": {},
   "outputs": [],
   "source": [
    "incomes = np.append(incomes, [1000000000])"
   ]
  },
  {
   "cell_type": "markdown",
   "metadata": {},
   "source": [
    "The median won't change much, but the mean does:"
   ]
  },
  {
   "cell_type": "code",
   "execution_count": 11,
   "metadata": {},
   "outputs": [
    {
     "data": {
      "text/plain": [
       "26768.98448750164"
      ]
     },
     "execution_count": 11,
     "metadata": {},
     "output_type": "execute_result"
    }
   ],
   "source": [
    "np.median(incomes)"
   ]
  },
  {
   "cell_type": "code",
   "execution_count": 12,
   "metadata": {},
   "outputs": [
    {
     "data": {
      "text/plain": [
       "126897.26266447581"
      ]
     },
     "execution_count": 12,
     "metadata": {},
     "output_type": "execute_result"
    }
   ],
   "source": [
    "np.mean(incomes)"
   ]
  },
  {
   "cell_type": "markdown",
   "metadata": {},
   "source": [
    "## Mode"
   ]
  },
  {
   "cell_type": "markdown",
   "metadata": {},
   "source": [
    "Next, let's generate some fake age data for 500 people:"
   ]
  },
  {
   "cell_type": "code",
   "execution_count": 13,
   "metadata": {},
   "outputs": [
    {
     "data": {
      "text/plain": [
       "array([63, 76, 49, 63, 29, 26, 76, 65, 87, 43, 34, 20, 56, 53, 28, 86, 30,\n",
       "       44, 78, 73, 47, 62, 81, 46, 79, 24, 63, 67, 35, 23, 85, 61, 28, 77,\n",
       "       20, 55, 23, 40, 36, 78, 48, 40, 86, 37, 87, 50, 19, 72, 39, 84, 46,\n",
       "       30, 64, 72, 50, 28, 66, 46, 38, 74, 21, 82, 59, 32, 71, 38, 52, 52,\n",
       "       59, 62, 89, 61, 78, 61, 43, 42, 40, 46, 44, 65, 52, 86, 37, 42, 75,\n",
       "       58, 55, 25, 55, 39, 41, 42, 33, 39, 72, 21, 89, 27, 30, 59, 19, 64,\n",
       "       53, 39, 53, 60, 70, 55, 81, 53, 53, 63, 80, 49, 79, 61, 20, 63, 60,\n",
       "       80, 37, 65, 22, 50, 89, 48, 57, 84, 43, 73, 43, 59, 54, 65, 70, 61,\n",
       "       76, 20, 29, 67, 83, 66, 36, 20, 64, 79, 61, 73, 63, 76, 19, 89, 66,\n",
       "       32, 18, 54, 87, 28, 65, 18, 88, 68, 28, 39, 48, 43, 54, 80, 25, 46,\n",
       "       60, 61, 30, 84, 45, 66, 40, 20, 79, 55, 27, 27, 83, 32, 71, 82, 34,\n",
       "       81, 32, 47, 29, 59, 27, 34, 43, 75, 72, 65, 45, 88, 69, 89, 36, 24,\n",
       "       70, 89, 53, 63, 38, 67, 29, 73, 88, 62, 51, 33, 44, 37, 54, 26, 54,\n",
       "       59, 35, 69, 63, 23, 48, 72, 88, 79, 22, 71, 55, 74, 36, 28, 18, 84,\n",
       "       79, 63, 49, 44, 85, 27, 53, 42, 73, 70, 58, 62, 47, 73, 54, 65, 55,\n",
       "       83, 64, 58, 30, 19, 25, 82, 51, 18, 70, 34, 28, 46, 71, 78, 87, 77,\n",
       "       80, 20, 71, 50, 69, 30, 73, 33, 57, 65, 37, 29, 20, 71, 40, 77, 77,\n",
       "       62, 86, 20, 62, 55, 39, 25, 75, 31, 23, 33, 72, 42, 74, 80, 46, 36,\n",
       "       44, 78, 28, 72, 59, 18, 23, 70, 68, 36, 43, 37, 69, 42, 56, 23, 44,\n",
       "       39, 66, 22, 75, 63, 25, 30, 22, 67, 87, 26, 69, 25, 84, 61, 44, 32,\n",
       "       56, 81, 33, 58, 54, 78, 86, 25, 30, 62, 34, 38, 59, 47, 49, 42, 36,\n",
       "       27, 66, 23, 37, 28, 24, 84, 61, 64, 22, 39, 51, 72, 56, 46, 69, 66,\n",
       "       72, 33, 19, 34, 62, 38, 24, 80, 31, 67, 71, 86, 69, 88, 27, 28, 89,\n",
       "       52, 61, 51, 71, 28, 86, 49, 24, 67, 51, 67, 87, 69, 49, 53, 37, 70,\n",
       "       20, 45, 35, 47, 55, 35, 43, 74, 89, 56, 46, 24, 89, 88, 30, 64, 54,\n",
       "       28, 83, 82, 23, 61, 67, 45, 51, 39, 33, 51, 82, 25, 25, 61, 32, 31,\n",
       "       31, 39, 31, 35, 86, 75, 35, 76, 75, 59, 46, 81, 39, 74, 79, 55, 72,\n",
       "       21, 67, 39, 19, 52, 45, 48, 69, 84, 64, 33, 39, 36, 40, 61, 34, 27,\n",
       "       53, 52, 51, 25, 49, 65, 65, 54, 47, 74, 66, 60, 79, 79, 70, 30, 29,\n",
       "       30, 80, 39, 84, 69, 22, 79])"
      ]
     },
     "execution_count": 13,
     "metadata": {},
     "output_type": "execute_result"
    }
   ],
   "source": [
    "ages = np.random.randint(18, high=90, size=500)\n",
    "ages"
   ]
  },
  {
   "cell_type": "code",
   "execution_count": 14,
   "metadata": {},
   "outputs": [
    {
     "data": {
      "text/plain": [
       "ModeResult(mode=array([39]), count=array([14]))"
      ]
     },
     "execution_count": 14,
     "metadata": {},
     "output_type": "execute_result"
    }
   ],
   "source": [
    "from scipy import stats\n",
    "stats.mode(ages)"
   ]
  },
  {
   "cell_type": "code",
   "execution_count": null,
   "metadata": {},
   "outputs": [],
   "source": []
  }
 ],
 "metadata": {
  "kernelspec": {
   "display_name": "Python 3",
   "language": "python",
   "name": "python3"
  },
  "language_info": {
   "codemirror_mode": {
    "name": "ipython",
    "version": 3
   },
   "file_extension": ".py",
   "mimetype": "text/x-python",
   "name": "python",
   "nbconvert_exporter": "python",
   "pygments_lexer": "ipython3",
   "version": "3.8.3"
  }
 },
 "nbformat": 4,
 "nbformat_minor": 1
}
